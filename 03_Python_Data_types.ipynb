{
 "cells": [
  {
   "cell_type": "markdown",
   "id": "dbae7896",
   "metadata": {},
   "source": [
    "## Python Data Types\n",
    "\n",
    "**Built-in Data Types**\n",
    "\n",
    "Variables can store data of different types, and different types can do different things"
   ]
  },
  {
   "cell_type": "markdown",
   "id": "7d14f318",
   "metadata": {},
   "source": [
    "Python has the following data types built-in by default, in these categories:\n",
    "\n",
    "**Text Type:**\tstr <br>\n",
    "**Numeric Types:**\tint, float, complex <br>\n",
    "**Sequence Types:**\tlist, tuple, range <br>\n",
    "**Mapping Type:**\tdict <br>\n",
    "**Set Types:**\tset, frozenset <br>\n",
    "**Boolean Type:**\tbool <br>\n",
    "**Binary Types:**\tbytes, bytearray, memoryview <br>\n",
    "**None Type:**\tNoneType "
   ]
  },
  {
   "cell_type": "markdown",
   "id": "72a17edd",
   "metadata": {},
   "source": [
    "**Getting the Data Type**\n",
    "\n",
    "You can get the data type of any object by using the type() function:"
   ]
  },
  {
   "cell_type": "code",
   "execution_count": 2,
   "id": "1e22e9e7",
   "metadata": {},
   "outputs": [
    {
     "name": "stdout",
     "output_type": "stream",
     "text": [
      "<class 'int'>\n"
     ]
    }
   ],
   "source": [
    "x = 5\n",
    "print(type(x))"
   ]
  },
  {
   "cell_type": "markdown",
   "id": "59de9b23",
   "metadata": {},
   "source": [
    "**Setting the Data Type**\n",
    "\n",
    "In Python, the data type is set when you assign a value to a variable"
   ]
  },
  {
   "cell_type": "code",
   "execution_count": 3,
   "id": "1f91155a",
   "metadata": {},
   "outputs": [],
   "source": [
    "a = \"Hello World\"\n",
    "b = 20\n",
    "c = 20.5\n",
    "d = 1j\n",
    "e = [\"apple\", \"banana\", \"cherry\"]\n",
    "f = (\"apple\", \"banana\", \"cherry\")\n",
    "g = range(6)\n",
    "h = {\"name\" : \"John\", \"age\" : 36}\n",
    "i = {\"apple\", \"banana\", \"cherry\"}\n",
    "j = frozenset({\"apple\", \"banana\", \"cherry\"})\n",
    "k = True\n",
    "l = b\"Hello\"\n",
    "m = bytearray(5)\n",
    "n = memoryview(bytes(5))\n",
    "o = None"
   ]
  },
  {
   "cell_type": "code",
   "execution_count": 6,
   "id": "858d6b16",
   "metadata": {},
   "outputs": [
    {
     "name": "stdout",
     "output_type": "stream",
     "text": [
      "<class 'str'>\n",
      "<class 'int'>\n",
      "<class 'float'>\n",
      "<class 'complex'>\n",
      "<class 'list'>\n",
      "<class 'tuple'>\n",
      "<class 'range'>\n",
      "<class 'dict'>\n",
      "<class 'set'>\n",
      "<class 'frozenset'>\n",
      "<class 'bool'>\n",
      "<class 'bytes'>\n",
      "<class 'bytearray'>\n",
      "<class 'memoryview'>\n",
      "<class 'NoneType'>\n"
     ]
    }
   ],
   "source": [
    "print(type(a))\n",
    "print(type(b))\n",
    "print(type(c))\n",
    "print(type(d))\n",
    "print(type(e))\n",
    "print(type(f))\n",
    "print(type(g))\n",
    "print(type(h))\n",
    "print(type(i))\n",
    "print(type(j))\n",
    "print(type(k))\n",
    "print(type(l))\n",
    "print(type(m))\n",
    "print(type(n))\n",
    "print(type(o))"
   ]
  },
  {
   "cell_type": "markdown",
   "id": "e9d8a617",
   "metadata": {},
   "source": [
    "**Setting the Specific Data Type**\n",
    "\n",
    "If you want to specify the data type, you can use the following constructor functions:"
   ]
  },
  {
   "cell_type": "code",
   "execution_count": 7,
   "id": "8febff90",
   "metadata": {},
   "outputs": [],
   "source": [
    "m = str(\"Hello World\")\n",
    "n = int(20)\n",
    "o = float(20.5)\n",
    "p = complex(1j)\n",
    "q = list((\"apple\", \"banana\", \"cherry\"))\n",
    "r = tuple((\"apple\", \"banana\", \"cherry\"))\n",
    "s = range(6)\n",
    "t = dict(name=\"John\", age=36)\n",
    "u = set((\"apple\", \"banana\", \"cherry\"))\n",
    "v = frozenset((\"apple\", \"banana\", \"cherry\"))\n",
    "w = bool(5)\n",
    "x = bytes(5)\n",
    "y = bytearray(5)\n",
    "z = memoryview(bytes(5))"
   ]
  },
  {
   "cell_type": "code",
   "execution_count": 8,
   "id": "1e26a4c9",
   "metadata": {},
   "outputs": [
    {
     "name": "stdout",
     "output_type": "stream",
     "text": [
      "<class 'str'>\n",
      "<class 'int'>\n",
      "<class 'float'>\n",
      "<class 'complex'>\n",
      "<class 'list'>\n",
      "<class 'tuple'>\n",
      "<class 'range'>\n",
      "<class 'dict'>\n",
      "<class 'set'>\n",
      "<class 'frozenset'>\n",
      "<class 'bool'>\n",
      "<class 'bytes'>\n",
      "<class 'bytearray'>\n",
      "<class 'memoryview'>\n"
     ]
    }
   ],
   "source": [
    "print(type(m))\n",
    "print(type(n))\n",
    "print(type(o))\n",
    "print(type(p))\n",
    "print(type(q))\n",
    "print(type(r))\n",
    "print(type(s))\n",
    "print(type(t))\n",
    "print(type(u))\n",
    "print(type(v))\n",
    "print(type(w))\n",
    "print(type(x))\n",
    "print(type(y))\n",
    "print(type(z))\n"
   ]
  },
  {
   "cell_type": "code",
   "execution_count": null,
   "id": "5ee27db0",
   "metadata": {},
   "outputs": [],
   "source": []
  }
 ],
 "metadata": {
  "kernelspec": {
   "display_name": "Python 3 (ipykernel)",
   "language": "python",
   "name": "python3"
  },
  "language_info": {
   "codemirror_mode": {
    "name": "ipython",
    "version": 3
   },
   "file_extension": ".py",
   "mimetype": "text/x-python",
   "name": "python",
   "nbconvert_exporter": "python",
   "pygments_lexer": "ipython3",
   "version": "3.11.2"
  }
 },
 "nbformat": 4,
 "nbformat_minor": 5
}
