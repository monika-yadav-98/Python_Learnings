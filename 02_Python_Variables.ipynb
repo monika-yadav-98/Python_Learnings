{
 "cells": [
  {
   "cell_type": "markdown",
   "id": "917779e3",
   "metadata": {},
   "source": [
    "# Variable Names\n",
    "\n",
    "A variable can have a short name (like x and y) or a more descriptive name (age, carname, total_volume). \n",
    "\n",
    "**Rules for Python variables:**\n",
    "    \n",
    "A variable name must start with a letter or the underscore character <br>\n",
    "A variable name cannot start with a number <br>\n",
    "A variable name can only contain alpha-numeric characters and underscores (A-z, 0-9, and _ )<br>\n",
    "Variable names are case-sensitive (age, Age and AGE are three different variables) <br>\n",
    "A variable name cannot be any of the Python keywords."
   ]
  },
  {
   "cell_type": "code",
   "execution_count": 1,
   "id": "27081931",
   "metadata": {},
   "outputs": [],
   "source": [
    "myvar = \"John\"\n",
    "my_var = \"John\"\n",
    "_my_var = \"John\"\n",
    "myVar = \"John\"\n",
    "MYVAR = \"John\"\n",
    "myvar2 = \"John\""
   ]
  },
  {
   "cell_type": "markdown",
   "id": "f726a722",
   "metadata": {},
   "source": [
    "**Multi Words Variable Names**\n",
    "\n",
    "Variable names with more than one word can be difficult to read.\n",
    "\n",
    "There are several techniques you can use to make them more readable:"
   ]
  },
  {
   "cell_type": "markdown",
   "id": "1b6628b9",
   "metadata": {},
   "source": [
    "**Camel Case**\n",
    "\n",
    "Each word, except the first, starts with a capital letter"
   ]
  },
  {
   "cell_type": "code",
   "execution_count": 8,
   "id": "b52bcb52",
   "metadata": {},
   "outputs": [],
   "source": [
    "myVariableName = \"John\"\n"
   ]
  },
  {
   "cell_type": "markdown",
   "id": "dea3b663",
   "metadata": {},
   "source": [
    "**Pascal Case**\n",
    "\n",
    "Each word starts with a capital letter:"
   ]
  },
  {
   "cell_type": "code",
   "execution_count": 10,
   "id": "78199399",
   "metadata": {},
   "outputs": [],
   "source": [
    "MyVariableName = \"John\""
   ]
  },
  {
   "cell_type": "markdown",
   "id": "dcf0c9af",
   "metadata": {},
   "source": [
    "**Snake Case**\n",
    "\n",
    "Each word is separated by an underscore character:"
   ]
  },
  {
   "cell_type": "code",
   "execution_count": 11,
   "id": "e6b3a6c7",
   "metadata": {},
   "outputs": [],
   "source": [
    "my_variable_name = \"John\""
   ]
  },
  {
   "cell_type": "markdown",
   "id": "6bd454fa",
   "metadata": {},
   "source": [
    "**Python Variables - Assign Multiple Values**\n"
   ]
  },
  {
   "cell_type": "markdown",
   "id": "97ed2e8f",
   "metadata": {},
   "source": [
    "**Many Values to Multiple Variables**\n",
    "\n",
    "Python allows you to assign values to multiple variables in one line:"
   ]
  },
  {
   "cell_type": "code",
   "execution_count": 14,
   "id": "b587d15f",
   "metadata": {},
   "outputs": [
    {
     "name": "stdout",
     "output_type": "stream",
     "text": [
      "Orange\n",
      "Banana\n",
      "Cherry\n"
     ]
    }
   ],
   "source": [
    "x, y, z = \"Orange\", \"Banana\", \"Cherry\"\n",
    "print(x)\n",
    "print(y)\n",
    "print(z)"
   ]
  },
  {
   "cell_type": "markdown",
   "id": "d6ddceb2",
   "metadata": {},
   "source": [
    "**One Value to Multiple Variables**\n",
    "\n",
    "And you can assign the same value to multiple variables in one line:"
   ]
  },
  {
   "cell_type": "code",
   "execution_count": 16,
   "id": "b502cfab",
   "metadata": {},
   "outputs": [
    {
     "name": "stdout",
     "output_type": "stream",
     "text": [
      "Orange\n",
      "Orange\n",
      "Orange\n"
     ]
    }
   ],
   "source": [
    "x = y = z = \"Orange\"\n",
    "print(x)\n",
    "print(y)\n",
    "print(z)"
   ]
  },
  {
   "cell_type": "markdown",
   "id": "8a3ea0a6",
   "metadata": {},
   "source": [
    "**Unpack a Collection**\n",
    "\n",
    "If you have a collection of values in a list, tuple etc. Python allows you to extract the values into variables. This is called unpacking."
   ]
  },
  {
   "cell_type": "code",
   "execution_count": 17,
   "id": "cbde5e94",
   "metadata": {},
   "outputs": [
    {
     "name": "stdout",
     "output_type": "stream",
     "text": [
      "apple\n",
      "banana\n",
      "cherry\n"
     ]
    }
   ],
   "source": [
    "fruits = [\"apple\", \"banana\", \"cherry\"]\n",
    "x, y, z = fruits\n",
    "print(x)\n",
    "print(y)\n",
    "print(z)"
   ]
  },
  {
   "cell_type": "markdown",
   "id": "cc02f08b",
   "metadata": {},
   "source": [
    "**Output Variables**\n",
    "\n",
    "The Python print() function is often used to output variables."
   ]
  },
  {
   "cell_type": "code",
   "execution_count": 19,
   "id": "af655b1e",
   "metadata": {},
   "outputs": [
    {
     "name": "stdout",
     "output_type": "stream",
     "text": [
      "Python is awesome\n"
     ]
    }
   ],
   "source": [
    "x = \"Python is awesome\"\n",
    "print(x)"
   ]
  },
  {
   "cell_type": "markdown",
   "id": "8c744dd6",
   "metadata": {},
   "source": [
    "In the print() function, you output multiple variables, separated by a comma:"
   ]
  },
  {
   "cell_type": "code",
   "execution_count": 20,
   "id": "9b8fa854",
   "metadata": {},
   "outputs": [
    {
     "name": "stdout",
     "output_type": "stream",
     "text": [
      "Python is awesome\n"
     ]
    }
   ],
   "source": [
    "x = \"Python\"\n",
    "y = \"is\"\n",
    "z = \"awesome\"\n",
    "print(x, y, z)"
   ]
  },
  {
   "cell_type": "markdown",
   "id": "11c06e9a",
   "metadata": {},
   "source": [
    "You can also use the + operator to output multiple variables:"
   ]
  },
  {
   "cell_type": "code",
   "execution_count": 21,
   "id": "4ea59e8e",
   "metadata": {},
   "outputs": [
    {
     "name": "stdout",
     "output_type": "stream",
     "text": [
      "Python is awesome\n"
     ]
    }
   ],
   "source": [
    "x = \"Python \"\n",
    "y = \"is \"\n",
    "z = \"awesome\"\n",
    "print(x + y + z)"
   ]
  },
  {
   "cell_type": "markdown",
   "id": "d60a4ca4",
   "metadata": {},
   "source": [
    "**Notice the space character after \"Python \" and \"is \", without them the result would be \"Pythonisawesome\".**"
   ]
  },
  {
   "cell_type": "markdown",
   "id": "6fe0d425",
   "metadata": {},
   "source": [
    "For numbers, the + character works as a mathematical operator:"
   ]
  },
  {
   "cell_type": "code",
   "execution_count": 22,
   "id": "d6c2bdc3",
   "metadata": {},
   "outputs": [
    {
     "name": "stdout",
     "output_type": "stream",
     "text": [
      "15\n"
     ]
    }
   ],
   "source": [
    "x = 5\n",
    "y = 10\n",
    "print(x + y)"
   ]
  },
  {
   "cell_type": "markdown",
   "id": "b0a1db20",
   "metadata": {},
   "source": [
    "In the print() function, when you try to combine a string and a number with the + operator, Python will give you an error:"
   ]
  },
  {
   "cell_type": "code",
   "execution_count": 23,
   "id": "b1fb41ec",
   "metadata": {},
   "outputs": [
    {
     "ename": "TypeError",
     "evalue": "unsupported operand type(s) for +: 'int' and 'str'",
     "output_type": "error",
     "traceback": [
      "\u001b[1;31m---------------------------------------------------------------------------\u001b[0m",
      "\u001b[1;31mTypeError\u001b[0m                                 Traceback (most recent call last)",
      "Cell \u001b[1;32mIn[23], line 3\u001b[0m\n\u001b[0;32m      1\u001b[0m x \u001b[38;5;241m=\u001b[39m \u001b[38;5;241m5\u001b[39m\n\u001b[0;32m      2\u001b[0m y \u001b[38;5;241m=\u001b[39m \u001b[38;5;124m\"\u001b[39m\u001b[38;5;124mJohn\u001b[39m\u001b[38;5;124m\"\u001b[39m\n\u001b[1;32m----> 3\u001b[0m \u001b[38;5;28mprint\u001b[39m(\u001b[43mx\u001b[49m\u001b[43m \u001b[49m\u001b[38;5;241;43m+\u001b[39;49m\u001b[43m \u001b[49m\u001b[43my\u001b[49m)\n",
      "\u001b[1;31mTypeError\u001b[0m: unsupported operand type(s) for +: 'int' and 'str'"
     ]
    }
   ],
   "source": [
    "x = 5\n",
    "y = \"John\"\n",
    "print(x + y)"
   ]
  },
  {
   "cell_type": "markdown",
   "id": "efe1af93",
   "metadata": {},
   "source": [
    "The best way to output multiple variables in the print() function is to separate them with commas, which even support different data types:"
   ]
  },
  {
   "cell_type": "code",
   "execution_count": 24,
   "id": "70d17c87",
   "metadata": {},
   "outputs": [
    {
     "name": "stdout",
     "output_type": "stream",
     "text": [
      "5 John\n"
     ]
    }
   ],
   "source": [
    "x = 5\n",
    "y = \"John\"\n",
    "print(x, y)"
   ]
  },
  {
   "cell_type": "markdown",
   "id": "a73f2ecb",
   "metadata": {},
   "source": [
    "**Global Variables**\n",
    "\n",
    "Variables that are created outside of a function are known as global variables.\n",
    "\n",
    "Global variables can be used by everyone, both inside of functions and outside."
   ]
  },
  {
   "cell_type": "code",
   "execution_count": 26,
   "id": "d9a97edd",
   "metadata": {},
   "outputs": [
    {
     "name": "stdout",
     "output_type": "stream",
     "text": [
      "Python is awesome\n"
     ]
    }
   ],
   "source": [
    "x = \"awesome\"\n",
    "\n",
    "def myfunc():\n",
    "    print(\"Python is \" + x)\n",
    "    \n",
    "myfunc()"
   ]
  },
  {
   "cell_type": "markdown",
   "id": "143d3e39",
   "metadata": {},
   "source": [
    "If you create a variable with the same name inside a function, this variable will be local, and can only be used inside the function.<br> The global variable with the same name will remain as it was, global and with the original value."
   ]
  },
  {
   "cell_type": "code",
   "execution_count": 27,
   "id": "847fb2a1",
   "metadata": {},
   "outputs": [
    {
     "name": "stdout",
     "output_type": "stream",
     "text": [
      "Python is fantastic\n",
      "Python is awesome\n"
     ]
    }
   ],
   "source": [
    "x = \"awesome\"\n",
    "\n",
    "def myfunc():\n",
    "  x = \"fantastic\"\n",
    "  print(\"Python is \" + x)\n",
    "\n",
    "myfunc()\n",
    "\n",
    "print(\"Python is \" + x)\n"
   ]
  },
  {
   "cell_type": "markdown",
   "id": "d426e1bc",
   "metadata": {},
   "source": [
    "**The global Keyword**\n",
    "\n",
    "Normally, when you create a variable inside a function, that variable is local, and can only be used inside that function.\n",
    "\n",
    "To create a global variable inside a function, you can use the global keyword."
   ]
  },
  {
   "cell_type": "code",
   "execution_count": 28,
   "id": "d01c1ffa",
   "metadata": {},
   "outputs": [
    {
     "name": "stdout",
     "output_type": "stream",
     "text": [
      "Python is fantastic\n"
     ]
    }
   ],
   "source": [
    "def myfunc():\n",
    "  global x\n",
    "  x = \"fantastic\"\n",
    "\n",
    "myfunc()\n",
    "\n",
    "print(\"Python is \" + x)"
   ]
  },
  {
   "cell_type": "markdown",
   "id": "903122b8",
   "metadata": {},
   "source": [
    "Also, use the global keyword if you want to change a global variable inside a function.\n",
    "\n"
   ]
  },
  {
   "cell_type": "code",
   "execution_count": 29,
   "id": "a39bb3a0",
   "metadata": {},
   "outputs": [
    {
     "name": "stdout",
     "output_type": "stream",
     "text": [
      "Python is fantastic\n"
     ]
    }
   ],
   "source": [
    "x = \"awesome\"\n",
    "\n",
    "def myfunc():\n",
    "  global x\n",
    "  x = \"fantastic\"\n",
    "\n",
    "myfunc()\n",
    "\n",
    "print(\"Python is \" + x)"
   ]
  },
  {
   "cell_type": "code",
   "execution_count": null,
   "id": "f98d5cd3",
   "metadata": {},
   "outputs": [],
   "source": []
  }
 ],
 "metadata": {
  "kernelspec": {
   "display_name": "Python 3 (ipykernel)",
   "language": "python",
   "name": "python3"
  },
  "language_info": {
   "codemirror_mode": {
    "name": "ipython",
    "version": 3
   },
   "file_extension": ".py",
   "mimetype": "text/x-python",
   "name": "python",
   "nbconvert_exporter": "python",
   "pygments_lexer": "ipython3",
   "version": "3.11.2"
  }
 },
 "nbformat": 4,
 "nbformat_minor": 5
}
