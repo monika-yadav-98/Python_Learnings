{
 "cells": [
  {
   "cell_type": "markdown",
   "id": "93ab5b80",
   "metadata": {},
   "source": [
    "## Python Strings\n"
   ]
  },
  {
   "cell_type": "markdown",
   "id": "104d5a14",
   "metadata": {},
   "source": [
    "**Strings**\n",
    "\n",
    "Strings in python are surrounded by either single quotation marks, or double quotation marks.\n",
    "\n",
    "'hello' is the same as \"hello\".\n",
    "\n",
    "You can display a string literal with the print() function:"
   ]
  },
  {
   "cell_type": "code",
   "execution_count": 1,
   "id": "a3085d0e",
   "metadata": {},
   "outputs": [
    {
     "name": "stdout",
     "output_type": "stream",
     "text": [
      "Hello\n",
      "Hello\n"
     ]
    }
   ],
   "source": [
    "print(\"Hello\")\n",
    "print('Hello')"
   ]
  },
  {
   "cell_type": "markdown",
   "id": "da72cc0c",
   "metadata": {},
   "source": [
    "**Assign String to a Variable**\n",
    "\n",
    "Assigning a string to a variable is done with the variable name followed by an equal sign and the string:"
   ]
  },
  {
   "cell_type": "code",
   "execution_count": 1,
   "id": "18694651",
   "metadata": {},
   "outputs": [
    {
     "name": "stdout",
     "output_type": "stream",
     "text": [
      "Hello\n"
     ]
    }
   ],
   "source": [
    "a = \"Hello\"\n",
    "print(a)"
   ]
  },
  {
   "cell_type": "markdown",
   "id": "b85333d1",
   "metadata": {},
   "source": [
    "**Multiline Strings**\n",
    "\n",
    "You can assign a multiline string to a variable by using three quotes:"
   ]
  },
  {
   "cell_type": "code",
   "execution_count": 2,
   "id": "75a23522",
   "metadata": {},
   "outputs": [
    {
     "name": "stdout",
     "output_type": "stream",
     "text": [
      "Lorem ipsum dolor sit amet,\n",
      "consectetur adipiscing elit,\n",
      "sed do eiusmod tempor incididunt\n",
      "ut labore et dolore magna aliqua.\n"
     ]
    }
   ],
   "source": [
    "a = \"\"\"Lorem ipsum dolor sit amet,\n",
    "consectetur adipiscing elit,\n",
    "sed do eiusmod tempor incididunt\n",
    "ut labore et dolore magna aliqua.\"\"\"\n",
    "print(a)"
   ]
  },
  {
   "cell_type": "markdown",
   "id": "a910213c",
   "metadata": {},
   "source": [
    "Or three single quotes:"
   ]
  },
  {
   "cell_type": "code",
   "execution_count": 3,
   "id": "8266c3b2",
   "metadata": {},
   "outputs": [
    {
     "name": "stdout",
     "output_type": "stream",
     "text": [
      "Lorem ipsum dolor sit amet,\n",
      "consectetur adipiscing elit,\n",
      "sed do eiusmod tempor incididunt\n",
      "ut labore et dolore magna aliqua.\n"
     ]
    }
   ],
   "source": [
    "a = '''Lorem ipsum dolor sit amet,\n",
    "consectetur adipiscing elit,\n",
    "sed do eiusmod tempor incididunt\n",
    "ut labore et dolore magna aliqua.'''\n",
    "print(a)"
   ]
  },
  {
   "cell_type": "markdown",
   "id": "7b4e27cd",
   "metadata": {},
   "source": [
    "**Strings are Arrays**\n",
    "\n",
    "Strings in Python are arrays of bytes representing unicode characters. <br>\n",
    "\n",
    "However, Python does not have a character data type, a single character is simply a string with a length of 1. <br>\n",
    "\n",
    "Square brackets can be used to access elements of the string"
   ]
  },
  {
   "cell_type": "code",
   "execution_count": 5,
   "id": "300c9e61",
   "metadata": {},
   "outputs": [
    {
     "name": "stdout",
     "output_type": "stream",
     "text": [
      "o\n"
     ]
    }
   ],
   "source": [
    "a = \"Hello, World!\"\n",
    "print(a[4])"
   ]
  },
  {
   "cell_type": "markdown",
   "id": "9706a26d",
   "metadata": {},
   "source": [
    "**Looping Through a String**\n",
    "\n",
    "Since strings are arrays, we can loop through the characters in a string, with a for loop."
   ]
  },
  {
   "cell_type": "code",
   "execution_count": 6,
   "id": "d2dc2511",
   "metadata": {},
   "outputs": [
    {
     "name": "stdout",
     "output_type": "stream",
     "text": [
      "b\n",
      "a\n",
      "n\n",
      "a\n",
      "n\n",
      "a\n"
     ]
    }
   ],
   "source": [
    "for x in \"banana\":\n",
    "  print(x)"
   ]
  },
  {
   "cell_type": "markdown",
   "id": "8b961036",
   "metadata": {},
   "source": [
    "**String Length**\n",
    "To get the length of a string, use the len() function."
   ]
  },
  {
   "cell_type": "code",
   "execution_count": 7,
   "id": "62f9fd2a",
   "metadata": {},
   "outputs": [
    {
     "name": "stdout",
     "output_type": "stream",
     "text": [
      "13\n"
     ]
    }
   ],
   "source": [
    "a = \"Hello, World!\"\n",
    "print(len(a))"
   ]
  },
  {
   "cell_type": "markdown",
   "id": "f527d0ce",
   "metadata": {},
   "source": [
    "**Check String**\n",
    "To check if a certain phrase or character is present in a string, we can use the keyword in"
   ]
  },
  {
   "cell_type": "code",
   "execution_count": 9,
   "id": "5c6c9894",
   "metadata": {},
   "outputs": [
    {
     "name": "stdout",
     "output_type": "stream",
     "text": [
      "True\n"
     ]
    }
   ],
   "source": [
    "txt = \"The best things in life are free!\"\n",
    "print(\"free\" in txt)"
   ]
  },
  {
   "cell_type": "markdown",
   "id": "3070c662",
   "metadata": {},
   "source": [
    "Use it in an if statement:"
   ]
  },
  {
   "cell_type": "code",
   "execution_count": 10,
   "id": "d238a521",
   "metadata": {},
   "outputs": [
    {
     "name": "stdout",
     "output_type": "stream",
     "text": [
      "Yes, 'free' is present.\n"
     ]
    }
   ],
   "source": [
    "txt = \"The best things in life are free!\"\n",
    "if \"free\" in txt:\n",
    "  print(\"Yes, 'free' is present.\")"
   ]
  },
  {
   "cell_type": "markdown",
   "id": "cf2e740a",
   "metadata": {},
   "source": [
    "**Check if NOT**\n",
    "\n",
    "To check if a certain phrase or character is NOT present in a string, we can use the keyword not in"
   ]
  },
  {
   "cell_type": "code",
   "execution_count": 11,
   "id": "e3e02d9e",
   "metadata": {},
   "outputs": [
    {
     "name": "stdout",
     "output_type": "stream",
     "text": [
      "True\n"
     ]
    }
   ],
   "source": [
    "txt = \"The best things in life are free!\"\n",
    "print(\"expensive\" not in txt)"
   ]
  },
  {
   "cell_type": "markdown",
   "id": "04696b57",
   "metadata": {},
   "source": [
    "Use it in an if statement:"
   ]
  },
  {
   "cell_type": "code",
   "execution_count": 12,
   "id": "19af7fdc",
   "metadata": {},
   "outputs": [
    {
     "name": "stdout",
     "output_type": "stream",
     "text": [
      "No, 'expensive' is NOT present.\n"
     ]
    }
   ],
   "source": [
    "txt = \"The best things in life are free!\"\n",
    "if \"expensive\" not in txt:\n",
    "  print(\"No, 'expensive' is NOT present.\")"
   ]
  },
  {
   "cell_type": "markdown",
   "id": "9ad41aca",
   "metadata": {},
   "source": [
    "# **Slicing**\n",
    "\n",
    "You can return a range of characters by using the slice syntax.\n",
    "\n",
    "Specify the start index and the end index, separated by a colon, to return a part of the string."
   ]
  },
  {
   "cell_type": "code",
   "execution_count": 15,
   "id": "dfb7c4d1",
   "metadata": {},
   "outputs": [
    {
     "name": "stdout",
     "output_type": "stream",
     "text": [
      "World\n"
     ]
    }
   ],
   "source": [
    "b = \"Hello, World!\"\n",
    "print(b[7:12])"
   ]
  },
  {
   "cell_type": "markdown",
   "id": "783ace77",
   "metadata": {},
   "source": [
    "Note: The first character has index 0"
   ]
  },
  {
   "cell_type": "markdown",
   "id": "736d74fa",
   "metadata": {},
   "source": [
    "**Slice From the Start**\n",
    "\n",
    "By leaving out the start index, the range will start at the first character:"
   ]
  },
  {
   "cell_type": "code",
   "execution_count": 16,
   "id": "4f289535",
   "metadata": {},
   "outputs": [
    {
     "name": "stdout",
     "output_type": "stream",
     "text": [
      "Hello\n"
     ]
    }
   ],
   "source": [
    "b = \"Hello, World!\"\n",
    "print(b[:5])"
   ]
  },
  {
   "cell_type": "markdown",
   "id": "ff6136c3",
   "metadata": {},
   "source": [
    "**Slice To the End**\n",
    "\n",
    "By leaving out the end index, the range will go to the end:"
   ]
  },
  {
   "cell_type": "code",
   "execution_count": 18,
   "id": "6b4e8148",
   "metadata": {},
   "outputs": [
    {
     "name": "stdout",
     "output_type": "stream",
     "text": [
      "llo, World!\n"
     ]
    }
   ],
   "source": [
    "b = \"Hello, World!\"\n",
    "print(b[2:])"
   ]
  },
  {
   "cell_type": "markdown",
   "id": "d44bf15d",
   "metadata": {},
   "source": [
    "**Negative Indexing**\n",
    "\n",
    "Use negative indexes to start the slice from the end of the string:"
   ]
  },
  {
   "cell_type": "code",
   "execution_count": 19,
   "id": "bcb16ce1",
   "metadata": {},
   "outputs": [
    {
     "name": "stdout",
     "output_type": "stream",
     "text": [
      "orl\n"
     ]
    }
   ],
   "source": [
    "b = \"Hello, World!\"\n",
    "print(b[-5:-2])"
   ]
  },
  {
   "cell_type": "markdown",
   "id": "289251dc",
   "metadata": {},
   "source": [
    "# **Modify Strings**"
   ]
  },
  {
   "cell_type": "markdown",
   "id": "82ca3df5",
   "metadata": {},
   "source": [
    "Python has a set of built-in methods that you can use on strings.\n",
    "\n",
    "**Upper Case**\n",
    "The upper() method returns the string in upper case:"
   ]
  },
  {
   "cell_type": "code",
   "execution_count": 21,
   "id": "ba6abf4f",
   "metadata": {},
   "outputs": [
    {
     "name": "stdout",
     "output_type": "stream",
     "text": [
      "HELLO, WORLD!\n"
     ]
    }
   ],
   "source": [
    "a = \"Hello, World!\"\n",
    "print(a.upper())"
   ]
  },
  {
   "cell_type": "markdown",
   "id": "7fb97da1",
   "metadata": {},
   "source": [
    "**Lower Case**\n",
    "\n",
    "The lower() method returns the string in lower case:"
   ]
  },
  {
   "cell_type": "code",
   "execution_count": 22,
   "id": "5fbeaddd",
   "metadata": {},
   "outputs": [
    {
     "name": "stdout",
     "output_type": "stream",
     "text": [
      "hello, world!\n"
     ]
    }
   ],
   "source": [
    "a = \"Hello, World!\"\n",
    "print(a.lower())"
   ]
  },
  {
   "cell_type": "markdown",
   "id": "2fe2fa71",
   "metadata": {},
   "source": [
    "**Remove Whitespace**\n",
    "\n",
    "Whitespace is the space before and/or after the actual text, and very often you want to remove this space.\n",
    "\n",
    "Example\n",
    "The strip() method removes any whitespace from the beginning or the end:"
   ]
  },
  {
   "cell_type": "code",
   "execution_count": 23,
   "id": "0d3536d2",
   "metadata": {},
   "outputs": [
    {
     "name": "stdout",
     "output_type": "stream",
     "text": [
      "Hello, World!\n"
     ]
    }
   ],
   "source": [
    "a = \" Hello, World! \"\n",
    "print(a.strip()) # returns \"Hello, World!\""
   ]
  },
  {
   "cell_type": "markdown",
   "id": "c4dd29f5",
   "metadata": {},
   "source": [
    "**Replace String**\n",
    "\n",
    "The replace() method replaces a string with another string:"
   ]
  },
  {
   "cell_type": "code",
   "execution_count": 24,
   "id": "03cf06c4",
   "metadata": {},
   "outputs": [
    {
     "name": "stdout",
     "output_type": "stream",
     "text": [
      "Jello, World!\n"
     ]
    }
   ],
   "source": [
    "a = \"Hello, World!\"\n",
    "print(a.replace(\"H\", \"J\"))"
   ]
  },
  {
   "cell_type": "markdown",
   "id": "b547ff67",
   "metadata": {},
   "source": [
    "**Split String**\n",
    "The split() method returns a list where the text between the specified separator becomes the list items.\n",
    "\n",
    "\n",
    "The split() method splits the string into substrings if it finds instances of the separator:"
   ]
  },
  {
   "cell_type": "code",
   "execution_count": 25,
   "id": "dee4edcf",
   "metadata": {},
   "outputs": [
    {
     "name": "stdout",
     "output_type": "stream",
     "text": [
      "['Hello', ' World!']\n"
     ]
    }
   ],
   "source": [
    "a = \"Hello, World!\"\n",
    "print(a.split(\",\")) # returns ['Hello', ' World!']"
   ]
  },
  {
   "cell_type": "markdown",
   "id": "d6c7ead1",
   "metadata": {},
   "source": [
    "# String Concatenation\n",
    "\n",
    "To concatenate, or combine, two strings you can use the + operator."
   ]
  },
  {
   "cell_type": "code",
   "execution_count": 26,
   "id": "98a18316",
   "metadata": {},
   "outputs": [
    {
     "name": "stdout",
     "output_type": "stream",
     "text": [
      "HelloWorld\n"
     ]
    }
   ],
   "source": [
    "# Merge variable a with variable b into variable c:\n",
    "\n",
    "a = \"Hello\"\n",
    "b = \"World\"\n",
    "c = a + b\n",
    "print(c)"
   ]
  },
  {
   "cell_type": "code",
   "execution_count": 27,
   "id": "56bf3d52",
   "metadata": {},
   "outputs": [
    {
     "name": "stdout",
     "output_type": "stream",
     "text": [
      "Hello World\n"
     ]
    }
   ],
   "source": [
    "# To add a space between them, add a \" \":\n",
    "\n",
    "a = \"Hello\"\n",
    "b = \"World\"\n",
    "c = a + \" \" + b\n",
    "print(c)"
   ]
  },
  {
   "cell_type": "markdown",
   "id": "b89b18ed",
   "metadata": {},
   "source": [
    "**String Format**\n",
    "\n",
    "We cannot combine strings and numbers like this:"
   ]
  },
  {
   "cell_type": "code",
   "execution_count": 28,
   "id": "e764dfc0",
   "metadata": {},
   "outputs": [
    {
     "ename": "TypeError",
     "evalue": "can only concatenate str (not \"int\") to str",
     "output_type": "error",
     "traceback": [
      "\u001b[1;31m---------------------------------------------------------------------------\u001b[0m",
      "\u001b[1;31mTypeError\u001b[0m                                 Traceback (most recent call last)",
      "Cell \u001b[1;32mIn[28], line 2\u001b[0m\n\u001b[0;32m      1\u001b[0m age \u001b[38;5;241m=\u001b[39m \u001b[38;5;241m36\u001b[39m\n\u001b[1;32m----> 2\u001b[0m txt \u001b[38;5;241m=\u001b[39m \u001b[38;5;124;43m\"\u001b[39;49m\u001b[38;5;124;43mMy name is John, I am \u001b[39;49m\u001b[38;5;124;43m\"\u001b[39;49m\u001b[43m \u001b[49m\u001b[38;5;241;43m+\u001b[39;49m\u001b[43m \u001b[49m\u001b[43mage\u001b[49m\n\u001b[0;32m      3\u001b[0m \u001b[38;5;28mprint\u001b[39m(txt)\n",
      "\u001b[1;31mTypeError\u001b[0m: can only concatenate str (not \"int\") to str"
     ]
    }
   ],
   "source": [
    "age = 36\n",
    "txt = \"My name is John, I am \" + age\n",
    "print(txt)"
   ]
  },
  {
   "cell_type": "markdown",
   "id": "22240df3",
   "metadata": {},
   "source": [
    "But we can combine strings and numbers by using the format() method!\n",
    "\n",
    "The format() method takes the passed arguments, formats them, and places them in the string where the placeholders {} are:"
   ]
  },
  {
   "cell_type": "code",
   "execution_count": 30,
   "id": "1271f60b",
   "metadata": {},
   "outputs": [
    {
     "name": "stdout",
     "output_type": "stream",
     "text": [
      "My name is John, and I am 36\n"
     ]
    }
   ],
   "source": [
    "age = 36\n",
    "txt = \"My name is John, and I am {}\"\n",
    "print(txt.format(age))"
   ]
  },
  {
   "cell_type": "markdown",
   "id": "2aa95ac3",
   "metadata": {},
   "source": [
    "The format() method takes unlimited number of arguments, and are placed into the respective placeholders:\n",
    "\n"
   ]
  },
  {
   "cell_type": "code",
   "execution_count": 32,
   "id": "8698ba26",
   "metadata": {},
   "outputs": [
    {
     "name": "stdout",
     "output_type": "stream",
     "text": [
      "I want 3 pieces of item 567 for 49.95 dollars.\n"
     ]
    }
   ],
   "source": [
    "# Example\n",
    "quantity = 3\n",
    "itemno = 567\n",
    "price = 49.95\n",
    "myorder = \"I want {} pieces of item {} for {} dollars.\"\n",
    "print(myorder.format(quantity, itemno, price))"
   ]
  },
  {
   "cell_type": "markdown",
   "id": "1928524f",
   "metadata": {},
   "source": [
    "You can use index numbers {0} to be sure the arguments are placed in the correct placeholders:"
   ]
  },
  {
   "cell_type": "code",
   "execution_count": 33,
   "id": "b2261a0d",
   "metadata": {},
   "outputs": [
    {
     "name": "stdout",
     "output_type": "stream",
     "text": [
      "I want to pay 49.95 dollars for 3 pieces of item 567.\n"
     ]
    }
   ],
   "source": [
    "quantity = 3\n",
    "itemno = 567\n",
    "price = 49.95\n",
    "myorder = \"I want to pay {2} dollars for {0} pieces of item {1}.\"\n",
    "print(myorder.format(quantity, itemno, price))"
   ]
  },
  {
   "cell_type": "markdown",
   "id": "db2c965e",
   "metadata": {},
   "source": [
    "## Escape Character\n",
    "\n",
    "To insert characters that are illegal in a string, use an escape character.\n",
    "\n",
    "An escape character is a backslash \\ followed by the character you want to insert.\n",
    "\n",
    "An example of an illegal character is a double quote inside a string that is surrounded by double quotes:"
   ]
  },
  {
   "cell_type": "code",
   "execution_count": 34,
   "id": "b907c545",
   "metadata": {},
   "outputs": [
    {
     "ename": "SyntaxError",
     "evalue": "invalid syntax (1385083735.py, line 4)",
     "output_type": "error",
     "traceback": [
      "\u001b[1;36m  Cell \u001b[1;32mIn[34], line 4\u001b[1;36m\u001b[0m\n\u001b[1;33m    txt = \"We are the so-called \"Vikings\" from the north.\"\u001b[0m\n\u001b[1;37m                                 ^\u001b[0m\n\u001b[1;31mSyntaxError\u001b[0m\u001b[1;31m:\u001b[0m invalid syntax\n"
     ]
    }
   ],
   "source": [
    "# Example\n",
    "# You will get an error if you use double quotes inside a string that is surrounded by double quotes:\n",
    "\n",
    "txt = \"We are the so-called \"Vikings\" from the north.\"\n"
   ]
  },
  {
   "cell_type": "markdown",
   "id": "6e555413",
   "metadata": {},
   "source": [
    "To fix this problem, use the escape character backslash followed by \":\n",
    "\n",
    "Example\n",
    "The escape character allows you to use double quotes when you normally would not be allowed:"
   ]
  },
  {
   "cell_type": "code",
   "execution_count": 35,
   "id": "3075123f",
   "metadata": {},
   "outputs": [],
   "source": [
    "txt = \"We are the so-called \\\"Vikings\\\" from the north.\""
   ]
  },
  {
   "cell_type": "code",
   "execution_count": 36,
   "id": "77c36679",
   "metadata": {},
   "outputs": [
    {
     "name": "stdout",
     "output_type": "stream",
     "text": [
      "We are the so-called \"Vikings\" from the north.\n"
     ]
    }
   ],
   "source": [
    "print(txt)\n"
   ]
  },
  {
   "cell_type": "markdown",
   "id": "e3452619",
   "metadata": {},
   "source": [
    "**Escape Characters**\n",
    "\n",
    "\\'\t  Single Quote <br>\n",
    "\\\\\t  Backslash <br>\n",
    "\\n\t  New Line <br>\n",
    "\\r\t  Carriage Return <br>\n",
    "\\t\t  Tab <br>\n",
    "\\b\t  Backspace <br>\n",
    "\\f\t  Form Feed <br>\n",
    "\\ooo   Octal value <br>\n",
    "\\xhh\tHex value "
   ]
  },
  {
   "cell_type": "markdown",
   "id": "c10f2f43",
   "metadata": {},
   "source": [
    "# String Methods\n",
    "\n",
    "**Python has a set of built-in methods that you can use on strings.**\n",
    "\n",
    "Note: All string methods return new values. They do not change the original string."
   ]
  },
  {
   "cell_type": "markdown",
   "id": "fefa61ef",
   "metadata": {},
   "source": [
    "## Method\tDescription <br>\n",
    "\n",
    "**capitalize()**\tConverts the first character to upper case <br>\n",
    "**casefold()**\tConverts string into lower case <br>\n",
    "**center()**\tReturns a centered string  <br>\n",
    "**count()**\tReturns the number of times a specified value occurs in a string  <br>\n",
    "**encode()**\tReturns an encoded version of the string  <br>\n",
    "**endswith()**\tReturns true if the string ends with the specified value  <br>\n",
    "**expandtabs()**\tSets the tab size of the string  <br>\n",
    "**find()**\tSearches the string for a specified value and returns the position of where it was found  <br>\n",
    "**format()**\tFormats specified values in a string  <br>\n",
    "**format_map()**\tFormats specified values in a string  <br>\n",
    "**index()**\tSearches the string for a specified value and returns the position of where it was found  <br>\n",
    "**isalnum()**\tReturns True if all characters in the string are alphanumeric  <br>\n",
    "**isalpha()**\tReturns True if all characters in the string are in the alphabet  <br>\n",
    "**isascii()**\tReturns True if all characters in the string are ascii characters  <br>\n",
    "**isdecimal()**\tReturns True if all characters in the string are decimals  <br>\n",
    "**isdigit()**\tReturns True if all characters in the string are digits  <br>\n",
    "**isidentifier()**\tReturns True if the string is an identifier  <br>\n",
    "**islower()**\tReturns True if all characters in the string are lower case  <br>\n",
    "**isnumeric()**\tReturns True if all characters in the string are numeric  <br>\n",
    "**isprintable()**\tReturns True if all characters in the string are printable  <br>\n",
    "**isspace()**\tReturns True if all characters in the string are whitespaces  <br>\n",
    "**istitle()**\tReturns True if the string follows the rules of a title  <br>\n",
    "**isupper()**\tReturns True if all characters in the string are upper case  <br>\n",
    "**join()**\tJoins the elements of an iterable to the end of the string  <br>\n",
    "**ljust()**\tReturns a left justified version of the string  <br>\n",
    "**lower()**\tConverts a string into lower case  <br>\n",
    "**lstrip()**\tReturns a left trim version of the string  <br>\n",
    "**maketrans()**\tReturns a translation table to be used in translations  <br>\n",
    "**partition()**\tReturns a tuple where the string is parted into three parts  <br>\n",
    "**replace()**\tReturns a string where a specified value is replaced with a specified value <br>\n",
    "**rfind()**\tSearches the string for a specified value and returns the last position of where it was found <br>\n",
    "**rindex()**\tSearches the string for a specified value and returns the last position of where it was found <br>\n",
    "**rjust()**\tReturns a right justified version of the string <br>\n",
    "**rpartition()**\tReturns a tuple where the string is parted into three parts <br>\n",
    "**rsplit()**\tSplits the string at the specified separator, and returns a list <br>\n",
    "**rstrip()**\tReturns a right trim version of the string <br>\n",
    "**split()**\tSplits the string at the specified separator, and returns a list <br>\n",
    "**splitlines()**\tSplits the string at line breaks and returns a list <br>\n",
    "**startswith()**\tReturns true if the string starts with the specified value <br>\n",
    "**strip()**\tReturns a trimmed version of the string <br>\n",
    "**swapcase()**\tSwaps cases, lower case becomes upper case and vice versa <br>\n",
    "**title()**\tConverts the first character of each word to upper case <br>\n",
    "**translate()**\tReturns a translated string <br>\n",
    "**upper()**\tConverts a string into upper case <br>\n",
    "**zfill()**\tFills the string with a specified number of 0 values at the beginning"
   ]
  },
  {
   "cell_type": "code",
   "execution_count": null,
   "id": "fa316c45",
   "metadata": {},
   "outputs": [],
   "source": []
  }
 ],
 "metadata": {
  "kernelspec": {
   "display_name": "Python 3 (ipykernel)",
   "language": "python",
   "name": "python3"
  },
  "language_info": {
   "codemirror_mode": {
    "name": "ipython",
    "version": 3
   },
   "file_extension": ".py",
   "mimetype": "text/x-python",
   "name": "python",
   "nbconvert_exporter": "python",
   "pygments_lexer": "ipython3",
   "version": "3.11.2"
  }
 },
 "nbformat": 4,
 "nbformat_minor": 5
}
