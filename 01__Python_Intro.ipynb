{
 "cells": [
  {
   "cell_type": "code",
   "execution_count": 6,
   "id": "5344bfae",
   "metadata": {},
   "outputs": [
    {
     "name": "stdout",
     "output_type": "stream",
     "text": [
      "Hello World\n"
     ]
    }
   ],
   "source": [
    "print(\"Hello World\")"
   ]
  },
  {
   "cell_type": "markdown",
   "id": "a14cea60",
   "metadata": {},
   "source": [
    "**Python Indentation**\n",
    "\n",
    "Indentation refers to the spaces at the beginning of a code line.\n",
    "\n",
    "Where in other programming languages the indentation in code is for readability only, the indentation in Python is very important.\n",
    "\n",
    "Python uses indentation to indicate a block of code."
   ]
  },
  {
   "cell_type": "code",
   "execution_count": 10,
   "id": "7a5ce1af",
   "metadata": {},
   "outputs": [
    {
     "name": "stdout",
     "output_type": "stream",
     "text": [
      "Five is greater then 2\n"
     ]
    }
   ],
   "source": [
    "if 5>2 :\n",
    "    print(\"Five is greater then 2\")"
   ]
  },
  {
   "cell_type": "code",
   "execution_count": 11,
   "id": "f493b16a",
   "metadata": {},
   "outputs": [
    {
     "name": "stdout",
     "output_type": "stream",
     "text": [
      "Five is greater than two!\n",
      "Five is greater than two!\n"
     ]
    }
   ],
   "source": [
    "if 5 > 2:\n",
    " print(\"Five is greater than two!\") \n",
    "if 5 > 2:\n",
    "        print(\"Five is greater than two!\") "
   ]
  },
  {
   "cell_type": "markdown",
   "id": "c48cbdf9",
   "metadata": {},
   "source": [
    "You have to use the same number of spaces in the same block of code, otherwise Python will give you an error:"
   ]
  },
  {
   "cell_type": "code",
   "execution_count": 12,
   "id": "fdb498f5",
   "metadata": {},
   "outputs": [
    {
     "ename": "IndentationError",
     "evalue": "unexpected indent (3430240237.py, line 3)",
     "output_type": "error",
     "traceback": [
      "\u001b[1;36m  Cell \u001b[1;32mIn[12], line 3\u001b[1;36m\u001b[0m\n\u001b[1;33m    print(\"Five is greater than two!\")\u001b[0m\n\u001b[1;37m    ^\u001b[0m\n\u001b[1;31mIndentationError\u001b[0m\u001b[1;31m:\u001b[0m unexpected indent\n"
     ]
    }
   ],
   "source": [
    "if 5 > 2:\n",
    " print(\"Five is greater than two!\")\n",
    "        print(\"Five is greater than two!\")"
   ]
  },
  {
   "cell_type": "markdown",
   "id": "8d3e2740",
   "metadata": {},
   "source": [
    "**Python Variables**\n",
    "In Python, variables are created when you assign a value to it:"
   ]
  },
  {
   "cell_type": "code",
   "execution_count": 14,
   "id": "44133ee7",
   "metadata": {},
   "outputs": [],
   "source": [
    "x=5\n",
    "y=\"Hello World\""
   ]
  },
  {
   "cell_type": "code",
   "execution_count": 15,
   "id": "0d64c058",
   "metadata": {},
   "outputs": [
    {
     "data": {
      "text/plain": [
       "(5, 'Hello World')"
      ]
     },
     "execution_count": 15,
     "metadata": {},
     "output_type": "execute_result"
    }
   ],
   "source": [
    "x,y"
   ]
  },
  {
   "cell_type": "markdown",
   "id": "46413e6d",
   "metadata": {},
   "source": [
    "**Comments**\n",
    "\n",
    "Python has commenting capability for the purpose of in-code documentation.\n",
    "\n",
    "Comments start with a #, and Python will render the rest of the line as a comment:"
   ]
  },
  {
   "cell_type": "code",
   "execution_count": 16,
   "id": "2b489721",
   "metadata": {},
   "outputs": [
    {
     "name": "stdout",
     "output_type": "stream",
     "text": [
      "Hello, World!\n"
     ]
    }
   ],
   "source": [
    "#This is a comment.\n",
    "print(\"Hello, World!\")"
   ]
  },
  {
   "cell_type": "markdown",
   "id": "04f8ca8b",
   "metadata": {},
   "source": [
    "Comments can be used to explain Python code.\n",
    "\n",
    "Comments can be used to make the code more readable.\n",
    "\n",
    "Comments can be used to prevent execution when testing code."
   ]
  },
  {
   "cell_type": "markdown",
   "id": "44391561",
   "metadata": {},
   "source": [
    "Multiline Comments\n",
    "\n",
    "Python does not really have a syntax for multiline comments.\n",
    "\n",
    "1. To add a multiline comment you could insert a # for each line\n",
    "\n",
    "2. You can add a multiline string (triple quotes) in your code, and place your comment inside it."
   ]
  },
  {
   "cell_type": "code",
   "execution_count": 17,
   "id": "ac0bc41d",
   "metadata": {},
   "outputs": [
    {
     "name": "stdout",
     "output_type": "stream",
     "text": [
      "Hello, World!\n"
     ]
    }
   ],
   "source": [
    "\"\"\"\n",
    "This is a comment\n",
    "written in\n",
    "more than just one line\n",
    "\"\"\"\n",
    "print(\"Hello, World!\")"
   ]
  },
  {
   "cell_type": "markdown",
   "id": "d28d7e3e",
   "metadata": {},
   "source": [
    "**Variables**\n",
    "\n",
    "Variables are containers for storing data values.\n",
    "\n",
    "**Creating Variables**\n",
    "\n",
    "Python has no command for declaring a variable.\n",
    "A variable is created the moment you first assign a value to it."
   ]
  },
  {
   "cell_type": "code",
   "execution_count": 18,
   "id": "fccba096",
   "metadata": {},
   "outputs": [
    {
     "name": "stdout",
     "output_type": "stream",
     "text": [
      "5\n",
      "Monika\n"
     ]
    }
   ],
   "source": [
    "x=5\n",
    "y=\"Monika\"\n",
    "\n",
    "print(x)\n",
    "print(y)"
   ]
  },
  {
   "cell_type": "markdown",
   "id": "4f946ffc",
   "metadata": {},
   "source": [
    "Variables do not need to be declared with any particular type, and can even change type after they have been set."
   ]
  },
  {
   "cell_type": "markdown",
   "id": "2b1a8bcc",
   "metadata": {},
   "source": [
    "**Casting**\n",
    "\n",
    "If you want to specify the data type of a variable, this can be done with casting."
   ]
  },
  {
   "cell_type": "code",
   "execution_count": 20,
   "id": "5c117ab8",
   "metadata": {},
   "outputs": [],
   "source": [
    "x = str(3)    # x will be '3'\n",
    "y = int(3)    # y will be 3\n",
    "z = float(3)  # z will be 3.0"
   ]
  },
  {
   "cell_type": "code",
   "execution_count": 21,
   "id": "e970c50d",
   "metadata": {},
   "outputs": [
    {
     "name": "stdout",
     "output_type": "stream",
     "text": [
      "3 3 3.0\n"
     ]
    }
   ],
   "source": [
    "print(x,y,z)"
   ]
  },
  {
   "cell_type": "markdown",
   "id": "9244080c",
   "metadata": {},
   "source": [
    "**Get the Type**\n",
    "\n",
    "type() function: To get the data type of a variable "
   ]
  },
  {
   "cell_type": "code",
   "execution_count": 24,
   "id": "5412fdf5",
   "metadata": {},
   "outputs": [
    {
     "name": "stdout",
     "output_type": "stream",
     "text": [
      "<class 'str'>\n",
      "<class 'int'>\n",
      "<class 'float'>\n"
     ]
    }
   ],
   "source": [
    "print(type(x))\n",
    "print(type(y))\n",
    "print(type(z))"
   ]
  },
  {
   "cell_type": "markdown",
   "id": "d77145a1",
   "metadata": {},
   "source": [
    "**Single or Double Quotes?**\n",
    "\n",
    "String variables can be declared either by using single('') or(\"\") double quotes"
   ]
  },
  {
   "cell_type": "code",
   "execution_count": 26,
   "id": "57f06176",
   "metadata": {},
   "outputs": [],
   "source": [
    "x = \"John\"\n",
    "# is the same as\n",
    "x = 'John'"
   ]
  },
  {
   "cell_type": "markdown",
   "id": "99af54e4",
   "metadata": {},
   "source": [
    "**Case-Sensitive**\n",
    "\n",
    "Variable names are case-sensitive"
   ]
  },
  {
   "cell_type": "code",
   "execution_count": 27,
   "id": "96d88ba2",
   "metadata": {},
   "outputs": [],
   "source": [
    "a = 4\n",
    "A = \"Sally\"\n",
    "#A will not overwrite a"
   ]
  },
  {
   "cell_type": "code",
   "execution_count": 28,
   "id": "54827935",
   "metadata": {},
   "outputs": [
    {
     "name": "stdout",
     "output_type": "stream",
     "text": [
      "4 Sally\n"
     ]
    }
   ],
   "source": [
    "print(a,A)"
   ]
  },
  {
   "cell_type": "code",
   "execution_count": null,
   "id": "95a426d0",
   "metadata": {},
   "outputs": [],
   "source": []
  }
 ],
 "metadata": {
  "kernelspec": {
   "display_name": "Python 3 (ipykernel)",
   "language": "python",
   "name": "python3"
  },
  "language_info": {
   "codemirror_mode": {
    "name": "ipython",
    "version": 3
   },
   "file_extension": ".py",
   "mimetype": "text/x-python",
   "name": "python",
   "nbconvert_exporter": "python",
   "pygments_lexer": "ipython3",
   "version": "3.11.2"
  }
 },
 "nbformat": 4,
 "nbformat_minor": 5
}
