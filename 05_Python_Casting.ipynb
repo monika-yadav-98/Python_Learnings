{
 "cells": [
  {
   "cell_type": "markdown",
   "id": "a76637da",
   "metadata": {},
   "source": [
    "## Python Casting"
   ]
  },
  {
   "cell_type": "markdown",
   "id": "8130212a",
   "metadata": {},
   "source": [
    "**Specify a Variable Type**\n",
    "\n",
    "With casting you can specify a type on to a variable. \n",
    "\n",
    "Python is an object-orientated language, and as such it uses classes to define data types, including its primitive types.\n",
    "\n"
   ]
  },
  {
   "cell_type": "markdown",
   "id": "923d84e5",
   "metadata": {},
   "source": [
    "**Casting in python is therefore done using constructor functions:**\n",
    "\n",
    "**int()** - constructs an integer number from an integer literal, a float literal (by removing all decimals), or a string literal (providing the string represents a whole number) <br>\n",
    "**float()** - constructs a float number from an integer literal, a float literal or a string literal (providing the string represents a float or an integer) <br>\n",
    "**str()** - constructs a string from a wide variety of data types, including strings, integer literals and float literals"
   ]
  },
  {
   "cell_type": "code",
   "execution_count": 1,
   "id": "8a759563",
   "metadata": {},
   "outputs": [],
   "source": [
    "x = int(1)   # x will be 1\n",
    "y = int(2.8) # y will be 2\n",
    "z = int(\"3\") # z will be 3"
   ]
  },
  {
   "cell_type": "code",
   "execution_count": 2,
   "id": "21ecbece",
   "metadata": {},
   "outputs": [
    {
     "name": "stdout",
     "output_type": "stream",
     "text": [
      "1 2 3\n"
     ]
    }
   ],
   "source": [
    "print(x,y,z)"
   ]
  },
  {
   "cell_type": "code",
   "execution_count": 3,
   "id": "18e9dc07",
   "metadata": {},
   "outputs": [],
   "source": [
    "x = float(1)     # x will be 1.0\n",
    "y = float(2.8)   # y will be 2.8\n",
    "z = float(\"3\")   # z will be 3.0\n",
    "w = float(\"4.2\") # w will be 4.2"
   ]
  },
  {
   "cell_type": "code",
   "execution_count": 4,
   "id": "abfc615a",
   "metadata": {},
   "outputs": [
    {
     "name": "stdout",
     "output_type": "stream",
     "text": [
      "1.0 2.8 3.0 4.2\n"
     ]
    }
   ],
   "source": [
    "print(x,y,z,w)"
   ]
  },
  {
   "cell_type": "code",
   "execution_count": 5,
   "id": "59ce85b6",
   "metadata": {},
   "outputs": [],
   "source": [
    "x = str(\"s1\") # x will be 's1'\n",
    "y = str(2)    # y will be '2'\n",
    "z = str(3.0)  # z will be '3.0'"
   ]
  },
  {
   "cell_type": "code",
   "execution_count": 7,
   "id": "b1f2fe15",
   "metadata": {},
   "outputs": [
    {
     "name": "stdout",
     "output_type": "stream",
     "text": [
      "s1 2 3.0\n",
      "<class 'str'>\n",
      "<class 'str'>\n",
      "<class 'str'>\n"
     ]
    }
   ],
   "source": [
    "print(x,y,z)\n",
    "print(type(x))\n",
    "print(type(y))\n",
    "print(type(z))"
   ]
  },
  {
   "cell_type": "code",
   "execution_count": null,
   "id": "ca17300e",
   "metadata": {},
   "outputs": [],
   "source": []
  }
 ],
 "metadata": {
  "kernelspec": {
   "display_name": "Python 3 (ipykernel)",
   "language": "python",
   "name": "python3"
  },
  "language_info": {
   "codemirror_mode": {
    "name": "ipython",
    "version": 3
   },
   "file_extension": ".py",
   "mimetype": "text/x-python",
   "name": "python",
   "nbconvert_exporter": "python",
   "pygments_lexer": "ipython3",
   "version": "3.11.2"
  }
 },
 "nbformat": 4,
 "nbformat_minor": 5
}
